{
 "cells": [
  {
   "metadata": {
    "ExecuteTime": {
     "end_time": "2024-10-08T21:38:06.566352Z",
     "start_time": "2024-10-08T21:38:06.561175Z"
    }
   },
   "cell_type": "code",
   "source": [
    "import json\n",
    "import os\n",
    "\n",
    "from langchain.schema import Document\n",
    "from langchain_community.document_loaders import PDFPlumberLoader\n",
    "from langchain_ollama import OllamaEmbeddings\n",
    "from langchain_text_splitters import RecursiveCharacterTextSplitter\n",
    "# from langchain_experimental.text_splitter import SemanticChunker\n",
    "from langchain_huggingface import HuggingFaceEmbeddings\n",
    "\n",
    "from plot_graph import weaviate_client\n",
    "\n",
    "\n",
    "def process_pdfs(chunk, folder_path):\n",
    "    pdf_docs = []\n",
    "    print(f'processing chunk: of len:{len(chunk)}')\n",
    "    for file_name in chunk:\n",
    "        if file_name.endswith('.pdf'):\n",
    "            try:\n",
    "                # TODO usar tesseract para extrair texto de pdfs imagem.\n",
    "                loader = PDFPlumberLoader(os.path.join(folder_path, file_name))\n",
    "                docs = loader.load()\n",
    "                if len(docs) == 0:\n",
    "                    print(f'warning: doc: {file_name} is empty')\n",
    "                pdf_docs.extend(docs)\n",
    "            except Exception as e:\n",
    "                print(f'erro: {e} ao processar pdf {file_name}')\n",
    "    return pdf_docs\n",
    "\n",
    "\n",
    "def save_docs_to_jsonl(array, file_path: str) -> None:\n",
    "    with open(file_path, 'w') as jsonl_file:\n",
    "        for doc in array:\n",
    "            jsonl_file.write(doc.json() + '\\n')\n",
    "\n",
    "\n",
    "def ensure_utf8(text):\n",
    "    return text.encode('utf-8', errors='replace').decode('utf-8')\n",
    "\n",
    "\n",
    "def load_docs_from_jsonl(file_path):\n",
    "    array = []\n",
    "\n",
    "    with open(file_path, 'r', encoding='utf-8') as jsonl_file:\n",
    "        lines = jsonl_file.readlines()\n",
    "\n",
    "    for i, line in enumerate(lines):\n",
    "        # Converte a linha para UTF-8, garantindo que todos os caracteres sejam válidos\n",
    "        utf8_line = ensure_utf8(line)\n",
    "        data = json.loads(utf8_line)\n",
    "        results = Document(**data)\n",
    "        array.append(results)\n",
    "\n",
    "    return array\n",
    "\n",
    "\n",
    "# # Carregar os documentos e aplicar a conversão\n",
    "# docs = load_docs_from_jsonl('../data_finish.jsonl')\n",
    "\n",
    "# embeddings = HuggingFaceEmbeddings()\n",
    "# text_splitter = SemanticChunker(embeddings)\n",
    "# split_docs = text_splitter.split_documents(docs)\n",
    "# \n",
    "# \n",
    "# save_docs_to_jsonl(split_docs, 'data_finish_semantic.jsonl')\n"
   ],
   "id": "234ed989b618c909",
   "outputs": [],
   "execution_count": 2
  },
  {
   "metadata": {
    "ExecuteTime": {
     "end_time": "2024-10-08T21:18:08.362171Z",
     "start_time": "2024-10-08T21:18:08.359071Z"
    }
   },
   "cell_type": "code",
   "source": "# len(docs)",
   "id": "ccb6d16567cf72c6",
   "outputs": [
    {
     "data": {
      "text/plain": [
       "94130"
      ]
     },
     "execution_count": 3,
     "metadata": {},
     "output_type": "execute_result"
    }
   ],
   "execution_count": 3
  },
  {
   "metadata": {
    "ExecuteTime": {
     "end_time": "2024-10-08T21:38:17.633495Z",
     "start_time": "2024-10-08T21:38:10.129325Z"
    }
   },
   "cell_type": "code",
   "source": [
    "split_docs = load_docs_from_jsonl('data_finish_semantic.jsonl')\n",
    "len(split_docs)"
   ],
   "id": "e7acb0dae77ebad5",
   "outputs": [
    {
     "data": {
      "text/plain": [
       "275852"
      ]
     },
     "execution_count": 3,
     "metadata": {},
     "output_type": "execute_result"
    }
   ],
   "execution_count": 3
  },
  {
   "metadata": {
    "ExecuteTime": {
     "end_time": "2024-10-08T21:23:18.217231Z",
     "start_time": "2024-10-08T21:23:18.195364Z"
    }
   },
   "cell_type": "code",
   "source": [
    "import weaviate\n",
    "from langchain_weaviate.vectorstores import WeaviateVectorStore\n",
    "\n",
    "weaviate_client = weaviate.connect_to_local()\n",
    "embeddings = OllamaEmbeddings(model=\"llama3.1:8b\", )\n",
    "db = WeaviateVectorStore.from_documents(docs, embeddings, client=weaviate_client, index_name='protein_articles')\n"
   ],
   "id": "8cb6129a8da087fc",
   "outputs": [
    {
     "ename": "AttributeError",
     "evalue": "module 'weaviate' has no attribute 'connect_to_local'",
     "output_type": "error",
     "traceback": [
      "\u001B[0;31m---------------------------------------------------------------------------\u001B[0m",
      "\u001B[0;31mAttributeError\u001B[0m                            Traceback (most recent call last)",
      "Cell \u001B[0;32mIn[7], line 4\u001B[0m\n\u001B[1;32m      1\u001B[0m \u001B[38;5;28;01mimport\u001B[39;00m \u001B[38;5;21;01mweaviate\u001B[39;00m\n\u001B[1;32m      2\u001B[0m \u001B[38;5;28;01mfrom\u001B[39;00m \u001B[38;5;21;01mlangchain_weaviate\u001B[39;00m\u001B[38;5;21;01m.\u001B[39;00m\u001B[38;5;21;01mvectorstores\u001B[39;00m \u001B[38;5;28;01mimport\u001B[39;00m WeaviateVectorStore\n\u001B[0;32m----> 4\u001B[0m weaviate_client \u001B[38;5;241m=\u001B[39m \u001B[43mweaviate\u001B[49m\u001B[38;5;241;43m.\u001B[39;49m\u001B[43mconnect_to_local\u001B[49m()\n\u001B[1;32m      5\u001B[0m embeddings \u001B[38;5;241m=\u001B[39m OllamaEmbeddings(model\u001B[38;5;241m=\u001B[39m\u001B[38;5;124m\"\u001B[39m\u001B[38;5;124mllama3.1:8b\u001B[39m\u001B[38;5;124m\"\u001B[39m, )\n\u001B[1;32m      6\u001B[0m db \u001B[38;5;241m=\u001B[39m WeaviateVectorStore\u001B[38;5;241m.\u001B[39mfrom_documents(docs, embeddings, client\u001B[38;5;241m=\u001B[39mweaviate_client, index_name\u001B[38;5;241m=\u001B[39m\u001B[38;5;124m'\u001B[39m\u001B[38;5;124mprotein_articles\u001B[39m\u001B[38;5;124m'\u001B[39m)\n",
      "\u001B[0;31mAttributeError\u001B[0m: module 'weaviate' has no attribute 'connect_to_local'"
     ]
    }
   ],
   "execution_count": 7
  },
  {
   "metadata": {
    "ExecuteTime": {
     "end_time": "2024-10-08T21:47:06.011274Z",
     "start_time": "2024-10-08T21:47:03.020884Z"
    }
   },
   "cell_type": "code",
   "source": [
    "import weaviate\n",
    "from weaviate.collections.classes.config import DataType, Property, Configure\n",
    "\n",
    "weaviate_client = weaviate.connect_to_local()\n",
    "weaviate_client.collections.create(\n",
    "    \"ProteinCollectionSemantic\",\n",
    "    vectorizer_config=Configure.Vectorizer.text2vec_ollama(\n",
    "        api_endpoint=\"http://ollama:11434\",  # If using Docker, use this to contact your local Ollama instance\n",
    "        model=\"mxbai-embed-large\",  # The model to use, e.g. \"nomic-embed-text\"\n",
    "    ),\n",
    "    properties=[  # properties configuration is optional\n",
    "        Property(name=\"title\", data_type=DataType.TEXT, skip_vectorization=True),\n",
    "        Property(name=\"body\", data_type=DataType.TEXT),\n",
    "        Property(name=\"page\", data_type=DataType.INT, skip_vectorization=True),\n",
    "        Property(name=\"doi\", data_type=DataType.TEXT, skip_vectorization=True),\n",
    "        Property(name=\"pk\", data_type=DataType.TEXT, skip_vectorization=True),\n",
    "        Property(name=\"proteins_structures\", data_type=DataType.TEXT_ARRAY),\n",
    "    ]\n",
    ")\n",
    "weaviate_client.close()"
   ],
   "id": "6a052b41d4824cd8",
   "outputs": [],
   "execution_count": 10
  },
  {
   "metadata": {
    "ExecuteTime": {
     "end_time": "2024-10-09T03:02:01.574360Z",
     "start_time": "2024-10-08T21:47:08.583852Z"
    }
   },
   "cell_type": "code",
   "source": [
    "import weaviate\n",
    "weaviate_client = weaviate.connect_to_local()\n",
    "collection = weaviate_client.collections.get(\"ProteinCollectionSemantic\")\n",
    "\n",
    "from tqdm import tqdm\n",
    "\n",
    "with collection.batch.dynamic() as batch:\n",
    "    # Inicializa o progresso com tqdm\n",
    "    for src_obj in tqdm(split_docs, desc=\"Processando documentos\", unit=\"doc\"):\n",
    "        try:\n",
    "            weaviate_obj = {\n",
    "                \"pk\": src_obj.metadata.get(\"id\", ''),\n",
    "                \"doi\": src_obj.metadata.get(\"doi\", ''),\n",
    "                \"page\": src_obj.metadata.get(\"page\", ''),\n",
    "                \"title\": src_obj.metadata.get(\"title\", ''),\n",
    "                \"body\": src_obj.page_content,\n",
    "                \"proteins_structures\": src_obj.metadata.get(\"proteins_structures\", []),\n",
    "            }\n",
    "\n",
    "            batch.add_object(\n",
    "                properties=weaviate_obj,\n",
    "            )\n",
    "        except Exception as err:\n",
    "            print(f'Error: {err}, on id {src_obj.metadata.get(\"id\", \"\")}')\n",
    "weaviate_client.close()\n"
   ],
   "id": "a57f18625413b778",
   "outputs": [
    {
     "name": "stderr",
     "output_type": "stream",
     "text": [
      "Processando documentos: 100%|██████████| 275852/275852 [5:14:15<00:00, 14.63doc/s]  \n"
     ]
    }
   ],
   "execution_count": 11
  },
  {
   "metadata": {},
   "cell_type": "code",
   "source": [
    "from weaviate.collections.classes.grpc import MetadataQuery\n",
    "\n",
    "weaviate_client = weaviate.connect_to_local()\n",
    "collection = weaviate_client.collections.get(\"ProteinCollectionSemantic\")\n",
    "\n",
    "response = collection.query.hybrid(\n",
    "    query=\"what is mobile loop ?\",\n",
    "    return_metadata=MetadataQuery(score=True, explain_score=True, distance=True, is_consistent=True),\n",
    "    limit=3,\n",
    "    # include_vector=True,\n",
    ")\n",
    "\n",
    "for o in response.objects:\n",
    "    print(o.properties['body'][:100], '...')\n",
    "    print(\n",
    "        f'score: {o.metadata.score}, explain: {o.metadata.explain_score}, distance: {o.metadata.distance}, is_consistent: {o.metadata.is_consistent}')\n",
    "    # print(o.vector[\"default\"])\n",
    "weaviate_client.close()"
   ],
   "id": "b0a8196b796371ec",
   "outputs": [],
   "execution_count": null
  },
  {
   "metadata": {},
   "cell_type": "code",
   "source": [
    "weaviate_client = weaviate.connect_to_local()\n",
    "collection = weaviate_client.collections.get(\"ProteinCollectionSemantic\")\n",
    "\n",
    "count = 0\n",
    "for item in collection.iterator():\n",
    "    print(item.uuid, item.properties)\n",
    "    count += 1\n",
    "    if count > 3:\n",
    "        break\n",
    "weaviate_client.close()"
   ],
   "id": "b1dce87803e251b3",
   "outputs": [],
   "execution_count": null
  },
  {
   "metadata": {},
   "cell_type": "code",
   "source": [
    "from langchain_weaviate.vectorstores import WeaviateVectorStore\n",
    "\n",
    "weaviate_client = weaviate.connect_to_local()\n",
    "db = WeaviateVectorStore(client=weaviate_client, index_name='ProteinCollectionSemantic',\n",
    "                         embedding=OllamaEmbeddings(model=\"mxbai-embed-large\", ), text_key='body')\n",
    "response = db.similarity_search(\"what is mobile loop ?\", alpha=0.5, k=20)\n",
    "weaviate_client.close()\n",
    "len(response)"
   ],
   "id": "8fe3a2b4ffeca4f7",
   "outputs": [],
   "execution_count": null
  },
  {
   "metadata": {
    "ExecuteTime": {
     "end_time": "2024-10-08T21:46:55.483835Z",
     "start_time": "2024-10-08T21:46:55.437798Z"
    }
   },
   "cell_type": "code",
   "source": [
    "weaviate_client.connect()\n",
    "weaviate_client.collections.delete_all()\n",
    "weaviate_client.close()"
   ],
   "id": "1c92a632607f0fc9",
   "outputs": [],
   "execution_count": 9
  },
  {
   "metadata": {},
   "cell_type": "code",
   "source": [
    "weaviate_client.connect()\n",
    "try:\n",
    "    collections = weaviate_client.collections.list_all()\n",
    "finally:\n",
    "    weaviate_client.close()\n",
    "collections"
   ],
   "id": "b32711622e8cc925",
   "outputs": [],
   "execution_count": null
  },
  {
   "metadata": {},
   "cell_type": "code",
   "source": [
    "weaviate_client = weaviate.connect_to_local()\n",
    "db = WeaviateVectorStore(client=weaviate_client, index_name='ProteinCollectionSemantic',\n",
    "                         embedding=OllamaEmbeddings(model=\"mxbai-embed-large\"),\n",
    "                         text_key='body')\n",
    "retriever = db.as_retriever(search_kwargs={'k': 20})\n",
    "\n",
    "len(retriever.invoke('what is a mobile loop?'))\n"
   ],
   "id": "72ab04d846158b9b",
   "outputs": [],
   "execution_count": null
  },
  {
   "metadata": {},
   "cell_type": "code",
   "source": [
    "from langchain_core.output_parsers import StrOutputParser\n",
    "from langchain_core.runnables import RunnablePassthrough\n",
    "from langchain.prompts import PromptTemplate\n",
    "from langchain_community.llms import Ollama\n",
    "\n",
    "prompt = \"\"\"\n",
    "    1. Use the following pieces of context to answer the question at the end.\n",
    "            2. If you don't know the answer, just say \"I don't know\" but don't make up an answer on your own.\n",
    "            3. Keep the answer crisp and limited to 3-4 sentences.\n",
    "            \n",
    "            Context: {context}\n",
    "            \n",
    "            Question: {question}\n",
    "            \n",
    "            After the answer, always say the source and page.\n",
    "            Helpful Answer:\n",
    "    \"\"\"\n",
    "llm = Ollama(model=\"llama3\")\n",
    "qa_chain_prompt = PromptTemplate.from_template(prompt)\n",
    "rag_chain = (\n",
    "        {\"context\": retriever, \"question\": RunnablePassthrough()}\n",
    "        | qa_chain_prompt\n",
    "        | llm\n",
    "        | StrOutputParser()\n",
    ")\n",
    "\n",
    "rag_chain.invoke('what is a mobile loop?')"
   ],
   "id": "a78e04235f170a2",
   "outputs": [],
   "execution_count": null
  }
 ],
 "metadata": {
  "kernelspec": {
   "display_name": "Python 3",
   "language": "python",
   "name": "python3"
  },
  "language_info": {
   "codemirror_mode": {
    "name": "ipython",
    "version": 2
   },
   "file_extension": ".py",
   "mimetype": "text/x-python",
   "name": "python",
   "nbconvert_exporter": "python",
   "pygments_lexer": "ipython2",
   "version": "2.7.6"
  }
 },
 "nbformat": 4,
 "nbformat_minor": 5
}
