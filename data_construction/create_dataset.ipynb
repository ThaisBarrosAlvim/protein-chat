{
 "cells": [
  {
   "cell_type": "code",
   "id": "initial_id",
   "metadata": {
    "collapsed": true,
    "ExecuteTime": {
     "end_time": "2024-09-30T16:53:38.771405Z",
     "start_time": "2024-09-30T16:53:26.245706Z"
    }
   },
   "source": [
    "from langchain.schema import Document\n",
    "import json\n",
    "\n",
    "\n",
    "def load_docs_from_jsonl(file_path):\n",
    "    array = []\n",
    "    with open(file_path, 'r') as jsonl_file:\n",
    "        for line in jsonl_file:\n",
    "            data = json.loads(line)\n",
    "            obj = Document(**data)\n",
    "            array.append(obj)\n",
    "    return array\n",
    "\n",
    "\n",
    "docs = load_docs_from_jsonl('data_finish.jsonl')\n",
    "len(docs)"
   ],
   "outputs": [
    {
     "data": {
      "text/plain": [
       "194725"
      ]
     },
     "execution_count": 1,
     "metadata": {},
     "output_type": "execute_result"
    }
   ],
   "execution_count": 1
  },
  {
   "metadata": {
    "ExecuteTime": {
     "end_time": "2024-09-30T16:53:56.124847Z",
     "start_time": "2024-09-30T16:53:42.898904Z"
    }
   },
   "cell_type": "code",
   "source": [
    "from langchain_text_splitters import RecursiveCharacterTextSplitter\n",
    "\n",
    "text_splitter = RecursiveCharacterTextSplitter(chunk_size=4000, chunk_overlap=200)\n",
    "\n",
    "split_docs = text_splitter.split_documents(docs)\n",
    "\n",
    "len(split_docs)"
   ],
   "id": "a6afec22bbcf75c",
   "outputs": [
    {
     "data": {
      "text/plain": [
       "305083"
      ]
     },
     "execution_count": 2,
     "metadata": {},
     "output_type": "execute_result"
    }
   ],
   "execution_count": 2
  },
  {
   "metadata": {},
   "cell_type": "code",
   "source": "split_docs[0]",
   "id": "9ec455553c6eefeb",
   "outputs": [],
   "execution_count": null
  },
  {
   "metadata": {
    "ExecuteTime": {
     "end_time": "2024-09-27T01:15:55.784054Z",
     "start_time": "2024-09-27T01:09:57.287983Z"
    }
   },
   "cell_type": "code",
   "source": [
    "from collections.abc import Iterable\n",
    "import ollama\n",
    "\n",
    "def create_qa(content):\n",
    "    response = ollama.chat(model='llama3.1:8b-instruct-q4_0',format='json', messages=[\n",
    "        {\n",
    "            'role': 'system',\n",
    "            'content': 'You are an API that converts bodies of text into a list of 1 to 5 different question and answer about technical info into a JSON format. Each item in this array '\n",
    "                       'contains a single question with a single answer. Only respond with the JSON and no additional text. Do not generate questions about specific info like names, institutions or references.'\n",
    "                       'Questions should include all context needed to understand. Do not create questions like this: \"What is the purpose of this article/<article name>?\" '\n",
    "                       'Answers must have as much possible of context, do not answer with just one phrase. '\n",
    "                       'Format exemple: {\"result\": [{\"question\": \"a list of strings\", \"answer\": \"a list of strings\"}, {\"question\": \"a list of strings\", \"answer\": \"a list of strings\"}, {\"question\": \"a list of strings\", \"answer\": \"a list of strings\"} ]}',\n",
    "        },\n",
    "        {\n",
    "            'role': 'user',\n",
    "            'content': (f'This is a part of article named: {content.metadata[\"Title\"]}\\n' if \"Title\" in content.metadata else \"\") + content.page_content + f'\\n\\nRespond only with valid JSON'\n",
    "        },\n",
    "    ])\n",
    "    try:\n",
    "        created_qa = json.loads(response['message']['content']).get('result')\n",
    "        # validate keys\n",
    "        if not isinstance(created_qa, Iterable) or not all(set(c.keys()) == {'answer', 'question'} for c in created_qa):\n",
    "            print('invalid format generated: \"', created_qa, '\"')\n",
    "            created_qa = {}\n",
    "    except Exception as err:\n",
    "        print('error while loading json: \"', str(err),'\" response: ', response['message']['content']                                        )\n",
    "        created_qa = {}\n",
    "    \n",
    "    return created_qa\n",
    "\n",
    "generated_qas = []\n",
    "\n",
    "for chunk in split_docs[:100]:\n",
    "    generated_qas.extend(create_qa(chunk))\n",
    "\n",
    "transformed_data = [\n",
    "    {\n",
    "        'instruction': item['question'],\n",
    "        'input': '',\n",
    "        'output': item['answer']\n",
    "    }\n",
    "    for item in generated_qas\n",
    "]\n",
    "\n",
    "with open('protein_articles.json', 'w') as json_file:\n",
    "    json_file.write(json.dumps(transformed_data,indent=4), )"
   ],
   "id": "72a64fff3d5d5152",
   "outputs": [],
   "execution_count": 51
  },
  {
   "metadata": {},
   "cell_type": "code",
   "outputs": [],
   "execution_count": null,
   "source": "",
   "id": "6519e9b156c3f9d1"
  },
  {
   "metadata": {
    "ExecuteTime": {
     "end_time": "2024-10-05T18:41:46.807811Z",
     "start_time": "2024-10-05T18:41:46.639394Z"
    }
   },
   "cell_type": "code",
   "source": [
    "import json\n",
    "\n",
    "with open('dataset_protein_articles.json', 'r') as json_file:\n",
    "    json_dataset = json.loads(json_file.read())\n",
    "len(json_dataset)"
   ],
   "id": "3531b19290f87e68",
   "outputs": [
    {
     "data": {
      "text/plain": [
       "39840"
      ]
     },
     "execution_count": 2,
     "metadata": {},
     "output_type": "execute_result"
    }
   ],
   "execution_count": 2
  },
  {
   "metadata": {},
   "cell_type": "code",
   "outputs": [],
   "execution_count": null,
   "source": "",
   "id": "c1ac10fb477da3cf"
  }
 ],
 "metadata": {
  "kernelspec": {
   "display_name": "Python 3",
   "language": "python",
   "name": "python3"
  },
  "language_info": {
   "codemirror_mode": {
    "name": "ipython",
    "version": 2
   },
   "file_extension": ".py",
   "mimetype": "text/x-python",
   "name": "python",
   "nbconvert_exporter": "python",
   "pygments_lexer": "ipython2",
   "version": "2.7.6"
  }
 },
 "nbformat": 4,
 "nbformat_minor": 5
}
